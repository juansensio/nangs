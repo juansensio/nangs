{
 "cells": [
  {
   "cell_type": "code",
   "execution_count": 1,
   "metadata": {
    "ExecuteTime": {
     "end_time": "2020-06-21T18:59:18.956387Z",
     "start_time": "2020-06-21T18:59:18.622095Z"
    }
   },
   "outputs": [],
   "source": [
    "%reload_ext autoreload\n",
    "%autoreload 2\n",
    "%matplotlib inline"
   ]
  },
  {
   "cell_type": "markdown",
   "metadata": {},
   "source": [
    "# Driven Cavity"
   ]
  },
  {
   "cell_type": "markdown",
   "metadata": {},
   "source": [
    "In this example we solve the two-dimensional incompressible steady Navier Stokes equations in the Driven Cavity problem\n",
    "\n",
    "$$\n",
    "\\mathbf{u} \\cdot \\nabla \\mathbf{u} = \\frac{1}{Re} \\nabla^2 \\mathbf{u} - \\nabla p\n",
    "$$\n",
    "\n",
    "where $\\mathbf{u} = (u, v)$ is the velocity of the fluid and $Re$ is the Reynolds number. The geometry of the problem is described as follows\n",
    "\n",
    "![](https://www.cfd-online.com/W/images/a/a3/Ldc_geom.png)"
   ]
  },
  {
   "cell_type": "code",
   "execution_count": 2,
   "metadata": {
    "ExecuteTime": {
     "end_time": "2020-06-21T18:59:19.636419Z",
     "start_time": "2020-06-21T18:59:18.958386Z"
    },
    "code_folding": []
   },
   "outputs": [
    {
     "data": {
      "text/plain": [
       "('2021.12.05', '1.10.0')"
      ]
     },
     "execution_count": 2,
     "metadata": {},
     "output_type": "execute_result"
    }
   ],
   "source": [
    "#imports\n",
    "\n",
    "import numpy as np \n",
    "import matplotlib.pyplot as plt \n",
    "import torch\n",
    "import pandas as pd\n",
    "import nangs\n",
    "from nangs import *\n",
    "\n",
    "device = \"cuda\" if torch.cuda.is_available() else \"cpu\"\n",
    "\n",
    "nangs.__version__, torch.__version__"
   ]
  },
  {
   "cell_type": "code",
   "execution_count": 3,
   "metadata": {
    "ExecuteTime": {
     "end_time": "2020-06-21T18:59:19.684420Z",
     "start_time": "2020-06-21T18:59:19.637419Z"
    },
    "code_folding": [
     3
    ]
   },
   "outputs": [],
   "source": [
    "U = 1.\n",
    "Re = 100\n",
    "\n",
    "class NavierStokes2d(PDE):\n",
    "    def computePDELoss(self, inputs, outputs):\n",
    "        \n",
    "        u, v, p = outputs[:, 0], outputs[:, 1], outputs[:, 2]\n",
    "        \n",
    "        # first order derivatives        \n",
    "        grads = self.computeGrads(u, inputs)       \n",
    "        dudx, dudy = grads[:, 0], grads[:, 1]\n",
    "        \n",
    "        grads = self.computeGrads(v, inputs)       \n",
    "        dvdx, dvdy = grads[:, 0], grads[:, 1]\n",
    "        \n",
    "        grads = self.computeGrads(p, inputs)       \n",
    "        dpdx, dpdy = grads[:, 0], grads[:, 1]\n",
    "            \n",
    "        # second order derivatives        \n",
    "        du2dx2 = self.computeGrads(dudx, inputs)[:, 0]       \n",
    "        du2dy2 = self.computeGrads(dudy, inputs)[:, 1]       \n",
    "        dv2dx2 = self.computeGrads(dvdx, inputs)[:, 0]       \n",
    "        dv2dy2 = self.computeGrads(dvdy, inputs)[:, 1]       \n",
    "\n",
    "        \n",
    "        # compute losses\n",
    "        return {\n",
    "            'mass': dudx + dvdy,\n",
    "            'mom_x': u*dudx + v*dudy + dpdx - (1./Re)*(du2dx2 + du2dy2),\n",
    "            'mom_y': u*dvdx + v*dvdy + dpdy - (1./Re)*(dv2dx2 + dv2dy2)\n",
    "        }\n",
    "\n",
    "# instanciate pde\n",
    "pde = NavierStokes2d(inputs=('x', 'y'), outputs=('u', 'v', 'p'))"
   ]
  },
  {
   "cell_type": "code",
   "execution_count": 4,
   "metadata": {
    "ExecuteTime": {
     "end_time": "2020-06-21T18:59:20.726737Z",
     "start_time": "2020-06-21T18:59:19.685420Z"
    },
    "code_folding": []
   },
   "outputs": [],
   "source": [
    "# define the sampler\n",
    "\n",
    "from nangs import RandomSampler\n",
    "\n",
    "sampler = RandomSampler({\n",
    "    'x': [0., 1.], \n",
    "    'y': [0., 1.],\n",
    "}, device=device, n_samples=1000)\n",
    "\n",
    "pde.set_sampler(sampler)"
   ]
  },
  {
   "cell_type": "code",
   "execution_count": 5,
   "metadata": {
    "ExecuteTime": {
     "end_time": "2020-06-21T18:59:20.789293Z",
     "start_time": "2020-06-21T18:59:20.727739Z"
    },
    "code_folding": [
     0
    ]
   },
   "outputs": [],
   "source": [
    "# left-right walls\n",
    "from nangs import Dirichlet, Neumann\n",
    "\n",
    "class NeumannX(Neumann):\n",
    "    def computeBocoLoss(self, inputs, outputs):\n",
    "        dpdx = self.computeGrads(outputs[:, 2], inputs)[:, 0]\n",
    "        return {'gradX': dpdx}"
   ]
  },
  {
   "cell_type": "code",
   "execution_count": 6,
   "metadata": {},
   "outputs": [
    {
     "name": "stdout",
     "output_type": "stream",
     "text": [
      "Boco left with different outputs ! ('u', 'v', 'p') vs ('u', 'v')\n"
     ]
    }
   ],
   "source": [
    "n_samples = 1000\n",
    "\n",
    "left = Dirichlet(\n",
    "    RandomSampler({'x': [0., 1.], 'y': 0.}, device=device, n_samples=n_samples), \n",
    "    lambda inputs: {\n",
    "        'u' : torch.zeros(n_samples, device=inputs['x'].device),\n",
    "        'v' : torch.zeros(n_samples, device=inputs['x'].device),\n",
    "    },\n",
    "    name=\"left\"\n",
    ")\n",
    "\n",
    "pde.add_boco(left)\n",
    "\n",
    "left_p = NeumannX(\n",
    "    RandomSampler({'x': [0., 1.], 'y': 0.}, device=device, n_samples=n_samples), \n",
    "    name='left-p'\n",
    ")\n",
    "\n",
    "pde.add_boco(left_p)"
   ]
  },
  {
   "cell_type": "code",
   "execution_count": 7,
   "metadata": {},
   "outputs": [
    {
     "name": "stdout",
     "output_type": "stream",
     "text": [
      "Boco right with different outputs ! ('u', 'v', 'p') vs ('u', 'v')\n"
     ]
    }
   ],
   "source": [
    "right = Dirichlet(\n",
    "    RandomSampler({'x': [0., 1.], 'y': 1.}, device=device, n_samples=n_samples), \n",
    "    lambda inputs: {\n",
    "        'u' : torch.zeros(n_samples, device=inputs['x'].device),\n",
    "        'v' : torch.zeros(n_samples, device=inputs['x'].device),\n",
    "    },\n",
    "    name=\"right\"\n",
    ")\n",
    "\n",
    "pde.add_boco(right)\n",
    "\n",
    "right_p = NeumannX(\n",
    "    RandomSampler({'x': [0., 1.], 'y': 1.}, device=device, n_samples=n_samples), \n",
    "    name='right-p'\n",
    ")\n",
    "\n",
    "pde.add_boco(right_p)"
   ]
  },
  {
   "cell_type": "code",
   "execution_count": 8,
   "metadata": {
    "ExecuteTime": {
     "end_time": "2020-06-21T18:59:20.852305Z",
     "start_time": "2020-06-21T18:59:20.791300Z"
    },
    "code_folding": [
     0
    ]
   },
   "outputs": [],
   "source": [
    "# bootom wall\n",
    "\n",
    "class NeumannY(Neumann):\n",
    "    def computeBocoLoss(self, inputs, outputs):\n",
    "        dpdy = self.computeGrads(outputs[:, 2], inputs)[:, 1]\n",
    "        return {'gradY': dpdy}"
   ]
  },
  {
   "cell_type": "code",
   "execution_count": 9,
   "metadata": {},
   "outputs": [
    {
     "name": "stdout",
     "output_type": "stream",
     "text": [
      "Boco bot with different outputs ! ('u', 'v', 'p') vs ('u', 'v')\n"
     ]
    }
   ],
   "source": [
    "bot = Dirichlet(\n",
    "    RandomSampler({'x': 0., 'y': [0., 1.]}, device=device, n_samples=n_samples), \n",
    "    lambda inputs: {\n",
    "        'u' : torch.zeros(n_samples, device=inputs['x'].device),\n",
    "        'v' : torch.zeros(n_samples, device=inputs['x'].device),\n",
    "    },\n",
    "    name=\"bot\"\n",
    ")\n",
    "\n",
    "pde.add_boco(bot)\n",
    "\n",
    "bot_p = NeumannY(\n",
    "    RandomSampler({'x': 0., 'y': [0., 1.]}, device=device, n_samples=n_samples), \n",
    "    name='bot-p'\n",
    ")\n",
    "\n",
    "pde.add_boco(bot_p)"
   ]
  },
  {
   "cell_type": "code",
   "execution_count": 10,
   "metadata": {
    "ExecuteTime": {
     "end_time": "2020-06-21T18:59:20.899312Z",
     "start_time": "2020-06-21T18:59:20.853306Z"
    },
    "code_folding": [
     0
    ]
   },
   "outputs": [
    {
     "name": "stdout",
     "output_type": "stream",
     "text": [
      "Boco top with different outputs ! ('u', 'v', 'p') vs ('u', 'v')\n"
     ]
    }
   ],
   "source": [
    "top = Dirichlet(\n",
    "    RandomSampler({'x': 1., 'y': [0., 1.]}, device=device, n_samples=n_samples), \n",
    "    lambda inputs: {\n",
    "        'u' : torch.ones(n_samples, device=inputs['x'].device)*U,\n",
    "        'v' : torch.zeros(n_samples, device=inputs['x'].device),\n",
    "    },\n",
    "    name=\"top\"\n",
    ")\n",
    "\n",
    "pde.add_boco(top)\n",
    "\n",
    "top_p = NeumannY(\n",
    "    RandomSampler({'x': 1., 'y': [0., 1.]}, device=device, n_samples=n_samples), \n",
    "    name='top-p'\n",
    ")\n",
    "\n",
    "pde.add_boco(top_p)"
   ]
  },
  {
   "cell_type": "code",
   "execution_count": 11,
   "metadata": {
    "ExecuteTime": {
     "end_time": "2020-06-21T19:05:20.642383Z",
     "start_time": "2020-06-21T18:59:20.900312Z"
    }
   },
   "outputs": [
    {
     "name": "stderr",
     "output_type": "stream",
     "text": [
      "{'mass': 0.00015, 'mom_x': 0.00038, 'mom_y': 5e-05, 'left': 0.00195, 'left-p_gradX': 5e-05, 'right': 0.0016, 'right-p_gradX': 8e-05, 'bot': 0.08011, 'bot-p_gradY': 2e-05, 'top': 0.09178, 'top-p_gradY': 2e-05}: 100%|██████████| 5000/5000 [01:23<00:00, 59.61it/s]"
     ]
    },
    {
     "name": "stdout",
     "output_type": "stream",
     "text": [
      "CPU times: user 1min 23s, sys: 799 ms, total: 1min 24s\n",
      "Wall time: 1min 23s\n"
     ]
    },
    {
     "name": "stderr",
     "output_type": "stream",
     "text": [
      "\n"
     ]
    }
   ],
   "source": [
    "# solve\n",
    "\n",
    "from nangs import MLP\n",
    "\n",
    "LR = 1e-3\n",
    "N_STEPS = 5000\n",
    "NUM_LAYERS = 3\n",
    "NUM_HIDDEN = 100\n",
    "\n",
    "mlp = MLP(len(pde.inputs), len(pde.outputs), NUM_LAYERS, NUM_HIDDEN).to(device)\n",
    "optimizer = torch.optim.Adam(mlp.parameters())\n",
    "scheduler = torch.optim.lr_scheduler.OneCycleLR(optimizer, max_lr=LR, pct_start=0.1, div_factor=10, final_div_factor=1, total_steps=N_STEPS)\n",
    "\n",
    "pde.compile(mlp, optimizer, scheduler)\n",
    "%time hist = pde.solve(N_STEPS)"
   ]
  },
  {
   "cell_type": "code",
   "execution_count": null,
   "metadata": {},
   "outputs": [],
   "source": [
    "import pandas as pd \n",
    "\n",
    "df = pd.DataFrame(hist)\n",
    "fig = plt.figure(dpi=100)\n",
    "ax = plt.subplot(1,1,1)\n",
    "ax.set_yscale('log')\n",
    "df.plot(ax=ax, grid=True)"
   ]
  },
  {
   "cell_type": "code",
   "execution_count": 12,
   "metadata": {
    "ExecuteTime": {
     "end_time": "2020-06-21T19:05:20.720348Z",
     "start_time": "2020-06-21T19:05:20.643383Z"
    },
    "code_folding": [
     0
    ]
   },
   "outputs": [],
   "source": [
    "# evaluate the solution\n",
    "\n",
    "x = np.linspace(0,1,50)\n",
    "y = np.linspace(0,1,50)\n",
    "\n",
    "grid = np.stack(np.meshgrid(x, y), -1).reshape(-1, 2)\n",
    "X = torch.from_numpy(grid).float().to(device)\n",
    "outputs = pde.eval(X).cpu()\n",
    "\n",
    "u = outputs[:, 0].view(len(x),len(y)).numpy()\n",
    "v = outputs[:, 1].view(len(x),len(y)).numpy()\n",
    "p = outputs[:, 2].view(len(x),len(y)).numpy()"
   ]
  },
  {
   "cell_type": "code",
   "execution_count": 13,
   "metadata": {
    "ExecuteTime": {
     "end_time": "2020-06-21T19:05:21.126129Z",
     "start_time": "2020-06-21T19:05:20.721934Z"
    },
    "code_folding": [
     0
    ]
   },
   "outputs": [
    {
     "data": {
      "image/png": "[encoded data removed]",
      "text/plain": [
       "<Figure size 720x576 with 8 Axes>"
      ]
     },
     "metadata": {
      "needs_background": "light"
     },
     "output_type": "display_data"
    }
   ],
   "source": [
    "# plot results\n",
    "fig, ((ax1, ax2), (ax3, ax4)) = plt.subplots(2, 2, figsize=(10,8))\n",
    "vel = np.sqrt(u**2 + v**2)\n",
    "im=ax1.imshow(vel, vmin=0, vmax=1, origin='lower', extent=[x.min(), x.max(), y.min(), y.max()])\n",
    "fig.colorbar(im, ax=ax1)\n",
    "ax1.set_xlabel(\"x\", fontsize=14)\n",
    "ax1.set_ylabel(\"y\", fontsize=14, rotation=np.pi/2)\n",
    "ax1.set_title(\"Vel\")\n",
    "ax1.axis(False)\n",
    "im=ax2.imshow(u, vmin=u.min(), vmax=u.max(), origin='lower', extent=[x.min(), x.max(), y.min(), y.max()])\n",
    "fig.colorbar(im, ax=ax2)\n",
    "ax2.set_title(\"U\")\n",
    "im=ax3.imshow(v, vmin=v.min(), vmax=v.max(), origin='lower', extent=[x.min(), x.max(), y.min(), y.max()])\n",
    "fig.colorbar(im, ax=ax3)\n",
    "ax2.axis(False)\n",
    "ax3.axis(False)\n",
    "ax3.set_title(\"V\")\n",
    "im=ax4.imshow(p, vmin=p.min(), vmax=p.max(), origin='lower', extent=[x.min(), x.max(), y.min(), y.max()])\n",
    "fig.colorbar(im, ax=ax4)\n",
    "ax4.axis(False)\n",
    "ax4.set_title(\"P\")\n",
    "plt.tight_layout()\n",
    "plt.show()"
   ]
  },
  {
   "cell_type": "code",
   "execution_count": 14,
   "metadata": {
    "ExecuteTime": {
     "end_time": "2020-06-21T19:05:21.389163Z",
     "start_time": "2020-06-21T19:05:21.127129Z"
    },
    "code_folding": [
     0
    ]
   },
   "outputs": [
    {
     "data": {
      "image/png": "[encoded data removed]",
      "text/plain": [
       "<Figure size 1080x360 with 2 Axes>"
      ]
     },
     "metadata": {
      "needs_background": "light"
     },
     "output_type": "display_data"
    }
   ],
   "source": [
    "# profiles\n",
    "\n",
    "mid_u = u[:,len(u)//2]\n",
    "mid_v = v[len(v)//2,:]\n",
    "exp_u = pd.read_csv('data/dc_100_ux.csv', header=None).values\n",
    "exp_v= pd.read_csv('data/dc_100_uy.csv', header=None).values\n",
    "\n",
    "fig = plt.figure(figsize=(15,5))\n",
    "ax1 = plt.subplot(121)\n",
    "ax1.plot(mid_u, y, label=\"numeric\")\n",
    "ax1.plot(exp_u[:,0], exp_u[:,1], '.k', label=\"experimental\")\n",
    "ax1.set_xlabel('x')\n",
    "ax1.set_ylabel('u')\n",
    "ax1.legend()\n",
    "ax1.grid(True)\n",
    "ax2 = plt.subplot(122)\n",
    "ax2.plot(x,mid_v, label=\"numeric\")\n",
    "ax2.plot(exp_v[:,0], exp_v[:,1], '.k', label=\"experimental\")\n",
    "ax2.legend()\n",
    "ax2.set_xlabel('y')\n",
    "ax2.set_ylabel('v')\n",
    "ax2.grid(True)\n",
    "plt.show()"
   ]
  }
 ],
 "metadata": {
  "kernelspec": {
   "display_name": "Python 3",
   "language": "python",
   "name": "python3"
  },
  "language_info": {
   "codemirror_mode": {
    "name": "ipython",
    "version": 3
   },
   "file_extension": ".py",
   "mimetype": "text/x-python",
   "name": "python",
   "nbconvert_exporter": "python",
   "pygments_lexer": "ipython3",
   "version": "3.9.5"
  },
  "toc": {
   "base_numbering": 1,
   "nav_menu": {},
   "number_sections": true,
   "sideBar": true,
   "skip_h1_title": false,
   "title_cell": "Table of Contents",
   "title_sidebar": "Contents",
   "toc_cell": false,
   "toc_position": {},
   "toc_section_display": true,
   "toc_window_display": false
  }
 },
 "nbformat": 4,
 "nbformat_minor": 4
}
