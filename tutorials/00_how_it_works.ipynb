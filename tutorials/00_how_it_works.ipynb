{
 "cells": [
  {
   "cell_type": "code",
   "execution_count": 1,
   "metadata": {
    "ExecuteTime": {
     "end_time": "2020-06-20T16:24:07.815237Z",
     "start_time": "2020-06-20T16:24:07.499238Z"
    },
    "code_folding": []
   },
   "outputs": [],
   "source": [
    "%reload_ext autoreload\n",
    "%autoreload 2\n",
    "%matplotlib inline"
   ]
  },
  {
   "cell_type": "markdown",
   "metadata": {},
   "source": [
    "# How nangs works"
   ]
  },
  {
   "cell_type": "markdown",
   "metadata": {},
   "source": [
    "In this notebook we show how nangs works. We will solve the following PDE:\n",
    "\n",
    "\\begin{equation}\n",
    "    \\frac{\\partial \\phi}{\\partial t} + u \\frac{\\partial \\phi}{\\partial x} = 0\n",
    "\\end{equation}\n",
    "\n",
    "The independent variables (i.e, $x$ and $t$) are used as input values for the NN, and the solution (i.e. $\\phi$) is the output. In order to find the solution, at each step the NN outputs are derived w.r.t the inputs. Then, a loss function that matches the PDE is built and the weights are updated accordingly. If the loss function goes to zero, we can assume that our NN is indeed the solution to our PDE. "
   ]
  },
  {
   "cell_type": "code",
   "execution_count": 2,
   "metadata": {
    "ExecuteTime": {
     "end_time": "2020-06-20T16:24:08.204237Z",
     "start_time": "2020-06-20T16:24:07.816236Z"
    }
   },
   "outputs": [
    {
     "data": {
      "text/plain": [
       "'1.10.0'"
      ]
     },
     "execution_count": 2,
     "metadata": {},
     "output_type": "execute_result"
    }
   ],
   "source": [
    "# imports\n",
    "\n",
    "import numpy as np \n",
    "import matplotlib.pyplot as plt \n",
    "import torch\n",
    "\n",
    "device = \"cuda\" if torch.cuda.is_available() else \"cpu\"\n",
    "\n",
    "torch.__version__"
   ]
  },
  {
   "cell_type": "markdown",
   "metadata": {},
   "source": [
    "## Define your dataset"
   ]
  },
  {
   "cell_type": "markdown",
   "metadata": {},
   "source": [
    "To solve the PDE we will give samples of inputs to the NN. The following function will sample values randomly."
   ]
  },
  {
   "cell_type": "code",
   "execution_count": 7,
   "metadata": {},
   "outputs": [],
   "source": [
    "def get_samples(batch_size=100, n_inputs=2):\n",
    "    # return torch.rand((batch_size, n_inputs), requires_grad=True)     \n",
    "    return torch.rand((batch_size, n_inputs)) "
   ]
  },
  {
   "cell_type": "code",
   "execution_count": 8,
   "metadata": {
    "ExecuteTime": {
     "end_time": "2020-06-20T16:24:08.220237Z",
     "start_time": "2020-06-20T16:24:08.205236Z"
    }
   },
   "outputs": [
    {
     "data": {
      "text/plain": [
       "(tensor([0.4904, 0.5822, 0.6344, 0.8125, 0.0885]),\n",
       " tensor([0.6438, 0.9303, 0.5701, 0.9804, 0.1070]))"
      ]
     },
     "execution_count": 8,
     "metadata": {},
     "output_type": "execute_result"
    }
   ],
   "source": [
    "X = get_samples(5, 2)\n",
    "x, t = X[:,0], X[:,1]\n",
    "\n",
    "x, t"
   ]
  },
  {
   "cell_type": "markdown",
   "metadata": {},
   "source": [
    "## Define your solution topology"
   ]
  },
  {
   "cell_type": "markdown",
   "metadata": {},
   "source": [
    "We use a Multilayer Perceptron to approximate the solution to the PDE"
   ]
  },
  {
   "cell_type": "code",
   "execution_count": 19,
   "metadata": {
    "ExecuteTime": {
     "end_time": "2020-06-20T16:24:09.248234Z",
     "start_time": "2020-06-20T16:24:09.233236Z"
    },
    "code_folding": [
     2
    ]
   },
   "outputs": [
    {
     "data": {
      "text/plain": [
       "Sequential(\n",
       "  (0): Linear(in_features=2, out_features=100, bias=True)\n",
       "  (1): Sine()\n",
       "  (2): Linear(in_features=100, out_features=100, bias=True)\n",
       "  (3): Sine()\n",
       "  (4): Linear(in_features=100, out_features=1, bias=True)\n",
       ")"
      ]
     },
     "execution_count": 19,
     "metadata": {},
     "output_type": "execute_result"
    }
   ],
   "source": [
    "import torch\n",
    "import torch.nn as nn\n",
    "\n",
    "class Sine(nn.Module):\n",
    "    def __init__(self):\n",
    "        super().__init__()\n",
    "    def forward(self, x):\n",
    "        return torch.sin(x)\n",
    "\n",
    "mlp = nn.Sequential(\n",
    "\tnn.Linear(2, 100),\n",
    "\tSine(), \n",
    "\tnn.Linear(100, 100), \n",
    "\tSine(), \n",
    "\tnn.Linear(100, 1)\n",
    ")\n",
    "\n",
    "mlp"
   ]
  },
  {
   "cell_type": "code",
   "execution_count": 20,
   "metadata": {
    "ExecuteTime": {
     "end_time": "2020-06-20T16:24:09.264236Z",
     "start_time": "2020-06-20T16:24:09.250234Z"
    }
   },
   "outputs": [
    {
     "data": {
      "text/plain": [
       "torch.Size([100, 1])"
      ]
     },
     "execution_count": 20,
     "metadata": {},
     "output_type": "execute_result"
    }
   ],
   "source": [
    "# check output shape\n",
    "\n",
    "output = mlp(X)\n",
    "\n",
    "output.shape"
   ]
  },
  {
   "cell_type": "markdown",
   "metadata": {},
   "source": [
    "## Boundary conditions"
   ]
  },
  {
   "cell_type": "markdown",
   "metadata": {},
   "source": [
    "We can attempt to solve our PDE at this points, but we would obtain a trivial solution. Instead, we need to specify a set of boundary conditions."
   ]
  },
  {
   "cell_type": "code",
   "execution_count": 21,
   "metadata": {
    "ExecuteTime": {
     "end_time": "2020-06-20T16:24:09.548264Z",
     "start_time": "2020-06-20T16:24:09.266235Z"
    }
   },
   "outputs": [
    {
     "data": {
      "image/png": "[encoded data removed]",
      "text/plain": [
       "<Figure size 432x288 with 1 Axes>"
      ]
     },
     "metadata": {
      "needs_background": "light"
     },
     "output_type": "display_data"
    }
   ],
   "source": [
    "# initial condition (t = 0)\n",
    "\n",
    "x= np.linspace(0, 1, 20)\n",
    "p0 = np.sin(2*np.pi*x)\n",
    "\n",
    "plt.plot(x, p0)\n",
    "plt.grid(True)\n",
    "plt.xlabel('x')\n",
    "plt.ylabel('$p_0$')\n",
    "plt.show()"
   ]
  },
  {
   "cell_type": "code",
   "execution_count": 22,
   "metadata": {},
   "outputs": [],
   "source": [
    "def get_samples_ini(batch_size=100):\n",
    "    x = torch.rand(batch_size)\n",
    "    p0 = torch.sin(2.*np.pi*x).unsqueeze(1)\n",
    "    return torch.stack([  \n",
    "        x,\n",
    "        torch.zeros(batch_size)\n",
    "    ], axis=-1), p0"
   ]
  },
  {
   "cell_type": "code",
   "execution_count": 23,
   "metadata": {
    "ExecuteTime": {
     "end_time": "2020-06-20T16:24:09.578267Z",
     "start_time": "2020-06-20T16:24:09.564266Z"
    }
   },
   "outputs": [],
   "source": [
    "# boundary conditions (peridic conditions at x = 0 and x = 1)\n",
    "\n",
    "def get_samples_boco(batch_size=100):\n",
    "    t = torch.rand(batch_size)\n",
    "    X0 = torch.stack([  \n",
    "        torch.zeros(batch_size),\n",
    "        t\n",
    "    ], axis=-1)\n",
    "    X1 = torch.stack([  \n",
    "        torch.ones(batch_size),\n",
    "        t\n",
    "    ], axis=-1)\n",
    "    return X0, X1"
   ]
  },
  {
   "cell_type": "markdown",
   "metadata": {},
   "source": [
    "## Solve the PDE"
   ]
  },
  {
   "cell_type": "markdown",
   "metadata": {},
   "source": [
    "We can now proceed with solving the PDE"
   ]
  },
  {
   "cell_type": "code",
   "execution_count": 26,
   "metadata": {
    "ExecuteTime": {
     "end_time": "2020-06-20T16:24:22.170546Z",
     "start_time": "2020-06-20T16:24:09.611265Z"
    },
    "code_folding": []
   },
   "outputs": [
    {
     "name": "stdout",
     "output_type": "stream",
     "text": [
      "500/5000 pde_loss 0.00092 ini_loss 0.00050 bound_loss 0.00225\n",
      "1000/5000 pde_loss 0.00029 ini_loss 0.00019 bound_loss 0.00079\n",
      "1500/5000 pde_loss 0.00011 ini_loss 0.00011 bound_loss 0.00027\n",
      "2000/5000 pde_loss 0.00010 ini_loss 0.00002 bound_loss 0.00003\n",
      "2500/5000 pde_loss 0.00005 ini_loss 0.00001 bound_loss 0.00002\n",
      "3000/5000 pde_loss 0.00004 ini_loss 0.00001 bound_loss 0.00001\n",
      "3500/5000 pde_loss 0.00002 ini_loss 0.00001 bound_loss 0.00001\n",
      "4000/5000 pde_loss 0.00003 ini_loss 0.00001 bound_loss 0.00001\n",
      "4500/5000 pde_loss 0.00001 ini_loss 0.00002 bound_loss 0.00002\n",
      "5000/5000 pde_loss 0.00001 ini_loss 0.00000 bound_loss 0.00001\n"
     ]
    }
   ],
   "source": [
    "BATCH_SIZE = 100\n",
    "N_STEPS = 5000\n",
    "U = 1\n",
    "\n",
    "optimizer = torch.optim.Adam(mlp.parameters())\n",
    "criterion = torch.nn.MSELoss()\n",
    "\n",
    "hist = []\n",
    "log_each = 500\n",
    "for step in range(1, N_STEPS+1):\n",
    "\n",
    "    # optimize for PDE\n",
    "    X = get_samples(BATCH_SIZE, 2) # N, (X, T)\n",
    "    X.requires_grad_(True)\n",
    "    y_hat = mlp(X) # N, P \n",
    "    grads, = torch.autograd.grad(y_hat, X, grad_outputs=y_hat.data.new(y_hat.shape).fill_(1), create_graph=True, only_inputs=True)\n",
    "    dpdx, dpdt = grads[:,0], grads[:,1]\n",
    "    pde_loss = criterion(dpdt, - U*dpdx)\n",
    "\n",
    "    # optimize for initial condition\n",
    "    X, p0 = get_samples_ini(BATCH_SIZE)\n",
    "    y_hat = mlp(X) # N, P0 \n",
    "    ini_loss = criterion(y_hat, p0)  \n",
    "    \n",
    "    # optimize for boundary conditions\n",
    "    X0, X1 = get_samples_boco(BATCH_SIZE)\n",
    "    y_0 = mlp(X0) \n",
    "    y_1 = mlp(X1)\n",
    "    bound_loss = criterion(y_0, y_1)\n",
    "\n",
    "    # update\n",
    "    optimizer.zero_grad()\n",
    "    loss = pde_loss + ini_loss + bound_loss\n",
    "    loss.backward()\n",
    "    optimizer.step()\n",
    "   \n",
    "    hist.append(loss.item())\n",
    "    if step % log_each == 0:\n",
    "        print(f'{step}/{N_STEPS} pde_loss {pde_loss.item():.5f} ini_loss {ini_loss.item():.5f} bound_loss {bound_loss.item():.5f}')"
   ]
  },
  {
   "cell_type": "code",
   "execution_count": 27,
   "metadata": {
    "ExecuteTime": {
     "end_time": "2020-06-20T16:24:22.421244Z",
     "start_time": "2020-06-20T16:24:22.171547Z"
    }
   },
   "outputs": [
    {
     "data": {
      "image/png": "[encoded data removed]",
      "text/plain": [
       "<Figure size 432x288 with 1 Axes>"
      ]
     },
     "metadata": {
      "needs_background": "light"
     },
     "output_type": "display_data"
    }
   ],
   "source": [
    "plt.plot(hist)\n",
    "plt.xlabel(\"update step\")\n",
    "plt.ylabel(\"loss\")\n",
    "plt.yscale(\"log\")\n",
    "plt.grid(True)\n",
    "plt.show()"
   ]
  },
  {
   "cell_type": "markdown",
   "metadata": {},
   "source": [
    "## Evaluate your solution\n",
    "\n"
   ]
  },
  {
   "cell_type": "code",
   "execution_count": 47,
   "metadata": {
    "ExecuteTime": {
     "end_time": "2020-06-20T16:24:22.453244Z",
     "start_time": "2020-06-20T16:24:22.438244Z"
    },
    "code_folding": [
     0
    ]
   },
   "outputs": [],
   "source": [
    "def eval_model(N=10, t=0.):\n",
    "    x = torch.linspace(0, 1, N)\n",
    "    X = torch.stack([  # N0, (X, T = 0)\n",
    "        x,\n",
    "        torch.ones(N)*t\n",
    "    ], axis=-1)\n",
    "    mlp.eval()\n",
    "    with torch.no_grad():\n",
    "        p = mlp(X)\n",
    "    return x.numpy(), p.numpy().ravel()\n",
    "\n",
    "x, p = eval_model(N=20, t=0.5)"
   ]
  },
  {
   "cell_type": "code",
   "execution_count": 48,
   "metadata": {
    "ExecuteTime": {
     "end_time": "2020-06-20T16:24:22.577247Z",
     "start_time": "2020-06-20T16:24:22.454244Z"
    },
    "code_folding": [
     0
    ]
   },
   "outputs": [
    {
     "data": {
      "image/png": "[encoded data removed]",
      "text/plain": [
       "<Figure size 432x288 with 1 Axes>"
      ]
     },
     "metadata": {
      "needs_background": "light"
     },
     "output_type": "display_data"
    }
   ],
   "source": [
    "def plot_model(x, p, t):\n",
    "    pe = np.sin(2.*np.pi*(x-U*t))\n",
    "    plt.plot(x, pe, label=\"exact\")\n",
    "    plt.plot(x, p, '.k', label=\"solution\")\n",
    "    plt.legend()\n",
    "    plt.grid(True)\n",
    "    l2 = np.sqrt(np.sum((p-pe)**2))\n",
    "    plt.title(f\"t = {t:.3f} (L2 = {l2:.5f})\")\n",
    "    plt.show()\n",
    "    \n",
    "plot_model(x, p, 0.5)"
   ]
  },
  {
   "cell_type": "markdown",
   "metadata": {},
   "source": [
    "## What nangs provides you"
   ]
  },
  {
   "cell_type": "markdown",
   "metadata": {},
   "source": [
    "Nangs will provide you with classes and functions to abstract some of the concepts explained here in order to enable fast experimentation while allowing you to customize it to your needs."
   ]
  }
 ],
 "metadata": {
  "kernelspec": {
   "display_name": "Python 3",
   "language": "python",
   "name": "python3"
  },
  "language_info": {
   "codemirror_mode": {
    "name": "ipython",
    "version": 3
   },
   "file_extension": ".py",
   "mimetype": "text/x-python",
   "name": "python",
   "nbconvert_exporter": "python",
   "pygments_lexer": "ipython3",
   "version": "3.9.5"
  },
  "toc": {
   "base_numbering": 1,
   "nav_menu": {},
   "number_sections": true,
   "sideBar": true,
   "skip_h1_title": false,
   "title_cell": "Table of Contents",
   "title_sidebar": "Contents",
   "toc_cell": false,
   "toc_position": {},
   "toc_section_display": true,
   "toc_window_display": false
  }
 },
 "nbformat": 4,
 "nbformat_minor": 4
}
